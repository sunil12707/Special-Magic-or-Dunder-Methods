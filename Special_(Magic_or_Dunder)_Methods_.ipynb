{
  "cells": [
    {
      "cell_type": "code",
      "execution_count": null,
      "id": "1e55299d-0152-4048-84e5-7a93578a4279",
      "metadata": {
        "id": "1e55299d-0152-4048-84e5-7a93578a4279",
        "outputId": "bb06fd80-2720-4765-b206-93587b6ffd9e",
        "colab": {
          "base_uri": "https://localhost:8080/"
        }
      },
      "outputs": [
        {
          "output_type": "execute_result",
          "data": {
            "text/plain": [
              "['__abs__',\n",
              " '__add__',\n",
              " '__and__',\n",
              " '__bool__',\n",
              " '__ceil__',\n",
              " '__class__',\n",
              " '__delattr__',\n",
              " '__dir__',\n",
              " '__divmod__',\n",
              " '__doc__',\n",
              " '__eq__',\n",
              " '__float__',\n",
              " '__floor__',\n",
              " '__floordiv__',\n",
              " '__format__',\n",
              " '__ge__',\n",
              " '__getattribute__',\n",
              " '__getnewargs__',\n",
              " '__gt__',\n",
              " '__hash__',\n",
              " '__index__',\n",
              " '__init__',\n",
              " '__init_subclass__',\n",
              " '__int__',\n",
              " '__invert__',\n",
              " '__le__',\n",
              " '__lshift__',\n",
              " '__lt__',\n",
              " '__mod__',\n",
              " '__mul__',\n",
              " '__ne__',\n",
              " '__neg__',\n",
              " '__new__',\n",
              " '__or__',\n",
              " '__pos__',\n",
              " '__pow__',\n",
              " '__radd__',\n",
              " '__rand__',\n",
              " '__rdivmod__',\n",
              " '__reduce__',\n",
              " '__reduce_ex__',\n",
              " '__repr__',\n",
              " '__rfloordiv__',\n",
              " '__rlshift__',\n",
              " '__rmod__',\n",
              " '__rmul__',\n",
              " '__ror__',\n",
              " '__round__',\n",
              " '__rpow__',\n",
              " '__rrshift__',\n",
              " '__rshift__',\n",
              " '__rsub__',\n",
              " '__rtruediv__',\n",
              " '__rxor__',\n",
              " '__setattr__',\n",
              " '__sizeof__',\n",
              " '__str__',\n",
              " '__sub__',\n",
              " '__subclasshook__',\n",
              " '__truediv__',\n",
              " '__trunc__',\n",
              " '__xor__',\n",
              " 'as_integer_ratio',\n",
              " 'bit_count',\n",
              " 'bit_length',\n",
              " 'conjugate',\n",
              " 'denominator',\n",
              " 'from_bytes',\n",
              " 'imag',\n",
              " 'numerator',\n",
              " 'real',\n",
              " 'to_bytes']"
            ]
          },
          "metadata": {},
          "execution_count": 1
        }
      ],
      "source": [
        "dir(int)"
      ]
    },
    {
      "cell_type": "code",
      "execution_count": null,
      "id": "789e9405-5860-48ad-96c6-e5a71aee3290",
      "metadata": {
        "id": "789e9405-5860-48ad-96c6-e5a71aee3290",
        "outputId": "d2596109-5817-4e1f-c253-ae4b9dfada34",
        "colab": {
          "base_uri": "https://localhost:8080/"
        }
      },
      "outputs": [
        {
          "output_type": "execute_result",
          "data": {
            "text/plain": [
              "['__add__',\n",
              " '__class__',\n",
              " '__contains__',\n",
              " '__delattr__',\n",
              " '__dir__',\n",
              " '__doc__',\n",
              " '__eq__',\n",
              " '__format__',\n",
              " '__ge__',\n",
              " '__getattribute__',\n",
              " '__getitem__',\n",
              " '__getnewargs__',\n",
              " '__gt__',\n",
              " '__hash__',\n",
              " '__init__',\n",
              " '__init_subclass__',\n",
              " '__iter__',\n",
              " '__le__',\n",
              " '__len__',\n",
              " '__lt__',\n",
              " '__mod__',\n",
              " '__mul__',\n",
              " '__ne__',\n",
              " '__new__',\n",
              " '__reduce__',\n",
              " '__reduce_ex__',\n",
              " '__repr__',\n",
              " '__rmod__',\n",
              " '__rmul__',\n",
              " '__setattr__',\n",
              " '__sizeof__',\n",
              " '__str__',\n",
              " '__subclasshook__',\n",
              " 'capitalize',\n",
              " 'casefold',\n",
              " 'center',\n",
              " 'count',\n",
              " 'encode',\n",
              " 'endswith',\n",
              " 'expandtabs',\n",
              " 'find',\n",
              " 'format',\n",
              " 'format_map',\n",
              " 'index',\n",
              " 'isalnum',\n",
              " 'isalpha',\n",
              " 'isascii',\n",
              " 'isdecimal',\n",
              " 'isdigit',\n",
              " 'isidentifier',\n",
              " 'islower',\n",
              " 'isnumeric',\n",
              " 'isprintable',\n",
              " 'isspace',\n",
              " 'istitle',\n",
              " 'isupper',\n",
              " 'join',\n",
              " 'ljust',\n",
              " 'lower',\n",
              " 'lstrip',\n",
              " 'maketrans',\n",
              " 'partition',\n",
              " 'removeprefix',\n",
              " 'removesuffix',\n",
              " 'replace',\n",
              " 'rfind',\n",
              " 'rindex',\n",
              " 'rjust',\n",
              " 'rpartition',\n",
              " 'rsplit',\n",
              " 'rstrip',\n",
              " 'split',\n",
              " 'splitlines',\n",
              " 'startswith',\n",
              " 'strip',\n",
              " 'swapcase',\n",
              " 'title',\n",
              " 'translate',\n",
              " 'upper',\n",
              " 'zfill']"
            ]
          },
          "metadata": {},
          "execution_count": 2
        }
      ],
      "source": [
        "dir(str)"
      ]
    },
    {
      "cell_type": "code",
      "execution_count": null,
      "id": "5f60d691-c280-4496-a922-858b6813c446",
      "metadata": {
        "id": "5f60d691-c280-4496-a922-858b6813c446"
      },
      "outputs": [],
      "source": [
        "a = 100"
      ]
    },
    {
      "cell_type": "code",
      "execution_count": null,
      "id": "a29fa4ba-d70b-4588-9bb9-d6f210c06023",
      "metadata": {
        "id": "a29fa4ba-d70b-4588-9bb9-d6f210c06023",
        "outputId": "ba660db0-a942-4075-91f1-c221208268b1",
        "colab": {
          "base_uri": "https://localhost:8080/"
        }
      },
      "outputs": [
        {
          "output_type": "execute_result",
          "data": {
            "text/plain": [
              "105"
            ]
          },
          "metadata": {},
          "execution_count": 4
        }
      ],
      "source": [
        "a+ 5"
      ]
    },
    {
      "cell_type": "code",
      "execution_count": null,
      "id": "ca644ee3-17dc-4542-b2f2-d67a5d811c14",
      "metadata": {
        "id": "ca644ee3-17dc-4542-b2f2-d67a5d811c14",
        "outputId": "b6ae4e78-0900-4c9d-d10c-47500cf5db4e",
        "colab": {
          "base_uri": "https://localhost:8080/"
        }
      },
      "outputs": [
        {
          "output_type": "execute_result",
          "data": {
            "text/plain": [
              "105"
            ]
          },
          "metadata": {},
          "execution_count": 5
        }
      ],
      "source": [
        "a.__add__(5)"
      ]
    },
    {
      "cell_type": "code",
      "source": [
        "for i in range(10):\n",
        "  print(i)"
      ],
      "metadata": {
        "colab": {
          "base_uri": "https://localhost:8080/"
        },
        "id": "ifJu3uJV_zLa",
        "outputId": "2f952404-79b9-4a13-e806-2a80943b783e"
      },
      "id": "ifJu3uJV_zLa",
      "execution_count": null,
      "outputs": [
        {
          "output_type": "stream",
          "name": "stdout",
          "text": [
            "0\n",
            "1\n",
            "2\n",
            "3\n",
            "4\n",
            "5\n",
            "6\n",
            "7\n",
            "8\n",
            "9\n"
          ]
        }
      ]
    },
    {
      "cell_type": "code",
      "source": [
        "class astra :\n",
        "\n",
        "    def __init__(self):\n",
        "        print(\"this is my init\")\n",
        "\n",
        "        self.mobile_number = 92234242\n",
        "a=astra()\n",
        "a.mobile_number"
      ],
      "metadata": {
        "colab": {
          "base_uri": "https://localhost:8080/"
        },
        "id": "44Lq7Wmp_zWe",
        "outputId": "730af0e0-39d5-466f-d417-81b3f5f4a9be"
      },
      "id": "44Lq7Wmp_zWe",
      "execution_count": null,
      "outputs": [
        {
          "output_type": "stream",
          "name": "stdout",
          "text": [
            "this is my init\n"
          ]
        },
        {
          "output_type": "execute_result",
          "data": {
            "text/plain": [
              "92234242"
            ]
          },
          "metadata": {},
          "execution_count": 12
        }
      ]
    },
    {
      "cell_type": "code",
      "execution_count": null,
      "id": "73a7ef41-ebe6-4d17-adb6-c19bfc9b62c2",
      "metadata": {
        "id": "73a7ef41-ebe6-4d17-adb6-c19bfc9b62c2"
      },
      "outputs": [],
      "source": [
        "class astra :\n",
        "\n",
        "    def __new__(cls) :\n",
        "        print(\"this is my new\")\n",
        "\n",
        "\n",
        "    def __init__(self):\n",
        "        print(\"this is my init\")\n",
        "\n",
        "        self.mobile_number = 92234242\n"
      ]
    },
    {
      "cell_type": "code",
      "execution_count": null,
      "id": "7431be45-c5bd-422b-a89e-ff1fdc8ac3fb",
      "metadata": {
        "id": "7431be45-c5bd-422b-a89e-ff1fdc8ac3fb",
        "outputId": "8fa2822b-0917-45ae-ac46-650ca0cb8227",
        "colab": {
          "base_uri": "https://localhost:8080/"
        }
      },
      "outputs": [
        {
          "output_type": "stream",
          "name": "stdout",
          "text": [
            "this is my new\n"
          ]
        }
      ],
      "source": [
        "pw = astra()"
      ]
    },
    {
      "cell_type": "code",
      "execution_count": null,
      "id": "03e80566-b0f4-4a4c-ae66-f394bf60537f",
      "metadata": {
        "id": "03e80566-b0f4-4a4c-ae66-f394bf60537f",
        "outputId": "e6fa6ece-2dff-45b0-8cf9-ea0a35b30717",
        "colab": {
          "base_uri": "https://localhost:8080/",
          "height": 175
        }
      },
      "outputs": [
        {
          "output_type": "error",
          "ename": "AttributeError",
          "evalue": "'NoneType' object has no attribute 'mobile_number'",
          "traceback": [
            "\u001b[0;31m---------------------------------------------------------------------------\u001b[0m",
            "\u001b[0;31mAttributeError\u001b[0m                            Traceback (most recent call last)",
            "\u001b[0;32m<ipython-input-17-87bda3d405a2>\u001b[0m in \u001b[0;36m<cell line: 1>\u001b[0;34m()\u001b[0m\n\u001b[0;32m----> 1\u001b[0;31m \u001b[0mpw\u001b[0m\u001b[0;34m.\u001b[0m\u001b[0mmobile_number\u001b[0m\u001b[0;34m\u001b[0m\u001b[0;34m\u001b[0m\u001b[0m\n\u001b[0m",
            "\u001b[0;31mAttributeError\u001b[0m: 'NoneType' object has no attribute 'mobile_number'"
          ]
        }
      ],
      "source": [
        "pw.mobile_number"
      ]
    },
    {
      "cell_type": "code",
      "execution_count": null,
      "id": "3b07f500-357f-4fe3-9744-f80322dc6952",
      "metadata": {
        "id": "3b07f500-357f-4fe3-9744-f80322dc6952"
      },
      "outputs": [],
      "source": [
        "class astra1 :\n",
        "\n",
        "\n",
        "    def __init__(self):\n",
        "\n",
        "\n",
        "        self.mobile_number = 92234242\n",
        "\n",
        "    def __str__(self) :\n",
        "        return \"this is my magic call of str\""
      ]
    },
    {
      "cell_type": "code",
      "execution_count": null,
      "id": "c6b4e711-c288-4207-a4fb-98ce6faf0157",
      "metadata": {
        "id": "c6b4e711-c288-4207-a4fb-98ce6faf0157"
      },
      "outputs": [],
      "source": [
        "pw1 = astra1()"
      ]
    },
    {
      "cell_type": "code",
      "execution_count": null,
      "id": "ce2f3c47-a5cf-4574-b683-15408207c3c8",
      "metadata": {
        "id": "ce2f3c47-a5cf-4574-b683-15408207c3c8",
        "outputId": "ff6808bf-f96c-4bb0-d0e9-90fed5b00e81",
        "colab": {
          "base_uri": "https://localhost:8080/"
        }
      },
      "outputs": [
        {
          "output_type": "execute_result",
          "data": {
            "text/plain": [
              "<__main__.astra1 at 0x79c698429360>"
            ]
          },
          "metadata": {},
          "execution_count": 27
        }
      ],
      "source": [
        "pw1"
      ]
    },
    {
      "cell_type": "code",
      "execution_count": null,
      "id": "bd631b15-9c37-4af9-91fb-e7ff690ec629",
      "metadata": {
        "id": "bd631b15-9c37-4af9-91fb-e7ff690ec629",
        "outputId": "def8cf8b-cec7-4453-f911-ae0fbd21d5a0",
        "colab": {
          "base_uri": "https://localhost:8080/"
        }
      },
      "outputs": [
        {
          "output_type": "stream",
          "name": "stdout",
          "text": [
            "this is my magic call of str\n"
          ]
        }
      ],
      "source": [
        "print(pw1)"
      ]
    },
    {
      "cell_type": "code",
      "source": [],
      "metadata": {
        "id": "GhDA5FWgENhP"
      },
      "id": "GhDA5FWgENhP",
      "execution_count": null,
      "outputs": []
    },
    {
      "cell_type": "code",
      "source": [
        "2+3"
      ],
      "metadata": {
        "colab": {
          "base_uri": "https://localhost:8080/"
        },
        "id": "88uQS15tENlN",
        "outputId": "58cb2af4-c39f-4c82-9676-6b24dadc531f"
      },
      "id": "88uQS15tENlN",
      "execution_count": null,
      "outputs": [
        {
          "output_type": "execute_result",
          "data": {
            "text/plain": [
              "5"
            ]
          },
          "metadata": {},
          "execution_count": 29
        }
      ]
    },
    {
      "cell_type": "code",
      "execution_count": null,
      "id": "bcde01b6-d289-4a81-b5f0-ee111b844ba2",
      "metadata": {
        "id": "bcde01b6-d289-4a81-b5f0-ee111b844ba2"
      },
      "outputs": [],
      "source": [
        "# int.__add__(self,other)"
      ]
    },
    {
      "cell_type": "code",
      "source": [
        "'''\n",
        "__add__(self,other)\n",
        "__sub__(self,other)\n",
        "__mul__(self,other)\n",
        "'''"
      ],
      "metadata": {
        "id": "P5u4sIEvrT--"
      },
      "id": "P5u4sIEvrT--",
      "execution_count": null,
      "outputs": []
    },
    {
      "cell_type": "code",
      "source": [
        "print(\"heloo\"+\"world\")"
      ],
      "metadata": {
        "id": "FKckeAfXrUBm",
        "colab": {
          "base_uri": "https://localhost:8080/"
        },
        "outputId": "daac1435-c72c-41c8-a2f0-6781fd1d942a"
      },
      "id": "FKckeAfXrUBm",
      "execution_count": null,
      "outputs": [
        {
          "output_type": "stream",
          "name": "stdout",
          "text": [
            "helooworld\n"
          ]
        }
      ]
    },
    {
      "cell_type": "code",
      "source": [
        "str.__add__(\"hello\",\"sunil\")"
      ],
      "metadata": {
        "id": "OofT_3gZrUFD",
        "colab": {
          "base_uri": "https://localhost:8080/",
          "height": 36
        },
        "outputId": "768bcb0b-94dd-468d-d1b8-ee102189b71b"
      },
      "id": "OofT_3gZrUFD",
      "execution_count": null,
      "outputs": [
        {
          "output_type": "execute_result",
          "data": {
            "text/plain": [
              "'hellosunil'"
            ],
            "application/vnd.google.colaboratory.intrinsic+json": {
              "type": "string"
            }
          },
          "metadata": {},
          "execution_count": 31
        }
      ]
    },
    {
      "cell_type": "code",
      "source": [
        "int.__sub__(30,23)"
      ],
      "metadata": {
        "id": "JHVLS2eCrb3I",
        "colab": {
          "base_uri": "https://localhost:8080/"
        },
        "outputId": "152b8e72-5d71-4508-e50e-7f1ee8f8c7aa"
      },
      "id": "JHVLS2eCrb3I",
      "execution_count": null,
      "outputs": [
        {
          "output_type": "execute_result",
          "data": {
            "text/plain": [
              "7"
            ]
          },
          "metadata": {},
          "execution_count": 32
        }
      ]
    },
    {
      "cell_type": "code",
      "source": [
        "print(\"b\">\"a\")"
      ],
      "metadata": {
        "id": "gbtLykfRrb58",
        "colab": {
          "base_uri": "https://localhost:8080/"
        },
        "outputId": "3968a15a-3d6e-44af-e10f-1e0dad860d87"
      },
      "id": "gbtLykfRrb58",
      "execution_count": null,
      "outputs": [
        {
          "output_type": "stream",
          "name": "stdout",
          "text": [
            "True\n"
          ]
        }
      ]
    },
    {
      "cell_type": "code",
      "source": [
        "ord(\"a\")"
      ],
      "metadata": {
        "id": "8h2eRwU6rim4",
        "colab": {
          "base_uri": "https://localhost:8080/"
        },
        "outputId": "5fd4b081-ff29-4756-bb08-ede3f40ade27"
      },
      "id": "8h2eRwU6rim4",
      "execution_count": null,
      "outputs": [
        {
          "output_type": "execute_result",
          "data": {
            "text/plain": [
              "97"
            ]
          },
          "metadata": {},
          "execution_count": 34
        }
      ]
    }
  ],
  "metadata": {
    "kernelspec": {
      "display_name": "Python 3 (ipykernel)",
      "language": "python",
      "name": "python3"
    },
    "language_info": {
      "codemirror_mode": {
        "name": "ipython",
        "version": 3
      },
      "file_extension": ".py",
      "mimetype": "text/x-python",
      "name": "python",
      "nbconvert_exporter": "python",
      "pygments_lexer": "ipython3",
      "version": "3.10.8"
    },
    "colab": {
      "provenance": []
    }
  },
  "nbformat": 4,
  "nbformat_minor": 5
}